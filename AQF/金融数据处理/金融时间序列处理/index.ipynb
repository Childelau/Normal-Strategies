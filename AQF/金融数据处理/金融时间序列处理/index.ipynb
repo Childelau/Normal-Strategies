{
 "nbformat": 4,
 "nbformat_minor": 2,
 "metadata": {
  "language_info": {
   "name": "python",
   "codemirror_mode": {
    "name": "ipython",
    "version": 3
   },
   "version": "3.6.5-final"
  },
  "orig_nbformat": 2,
  "file_extension": ".py",
  "mimetype": "text/x-python",
  "name": "python",
  "npconvert_exporter": "python",
  "pygments_lexer": "ipython3",
  "version": 3,
  "kernelspec": {
   "name": "python36564bitbaseconda4baccf7c2719476e876b25c4fcef0fe8",
   "display_name": "Python 3.6.5 64-bit ('base': conda)"
  }
 },
 "cells": [
  {
   "cell_type": "code",
   "execution_count": 2,
   "metadata": {},
   "outputs": [],
   "source": [
    "import  numpy as np\n",
    "import pandas as pd\n",
    "import baostock as bs\n",
    "import datetime\n",
    "from datetime import datetime\n",
    "import matplotlib.pyplot as plt\n",
    "%matplotlib inline\n",
    "import warnings;warnings.simplefilter('ignore')"
   ]
  },
  {
   "cell_type": "code",
   "execution_count": 6,
   "metadata": {},
   "outputs": [
    {
     "name": "stdout",
     "output_type": "stream",
     "text": "2020-02-19 21:12:19.077899\n<class 'datetime.datetime'>\n"
    }
   ],
   "source": [
    "#1.Python下的日期格式\n",
    "now = datetime.now()\n",
    "print(now)\n",
    "print(type(now))"
   ]
  },
  {
   "cell_type": "code",
   "execution_count": 7,
   "metadata": {},
   "outputs": [
    {
     "name": "stdout",
     "output_type": "stream",
     "text": "2020年2月19日\n"
    }
   ],
   "source": [
    "print('{}年{}月{}日'.format(now.year,now.month,now.day))"
   ]
  },
  {
   "cell_type": "code",
   "execution_count": 8,
   "metadata": {},
   "outputs": [
    {
     "data": {
      "text/plain": "datetime.timedelta(18, 76532, 846923)"
     },
     "execution_count": 8,
     "metadata": {},
     "output_type": "execute_result"
    }
   ],
   "source": [
    "datetime.now()-datetime(2020,2,1)"
   ]
  },
  {
   "cell_type": "code",
   "execution_count": 10,
   "metadata": {},
   "outputs": [
    {
     "name": "stdout",
     "output_type": "stream",
     "text": "2020-02-18 00:00:00\n<class 'datetime.datetime'>\n<class 'str'>\n"
    }
   ],
   "source": [
    "#时间格式转化为str格式\n",
    "dt_time = datetime(2020,2,18)\n",
    "str_time = str(dt_time)\n",
    "print(str_time)\n",
    "print(type(dt_time))\n",
    "print(type(str_time))"
   ]
  },
  {
   "cell_type": "code",
   "execution_count": 11,
   "metadata": {},
   "outputs": [
    {
     "name": "stdout",
     "output_type": "stream",
     "text": "18/02/2020\n<class 'str'>\n"
    }
   ],
   "source": [
    "str_time2 = dt_time.strftime('%d/%m/%Y')\n",
    "print(str_time2)\n",
    "print(type(str_time2))"
   ]
  },
  {
   "cell_type": "code",
   "execution_count": 12,
   "metadata": {},
   "outputs": [
    {
     "name": "stdout",
     "output_type": "stream",
     "text": "2020-02-19 00:00:00\n<class 'datetime.datetime'>\n"
    }
   ],
   "source": [
    "#字符串转化为datetime，如果不是事件类型数据的话，很多操作无法完成==========\n",
    "dt_str = '2020-02-19'\n",
    "dt_time = datetime.strptime(dt_str,'%Y-%m-%d')  #str parse time\n",
    "print(dt_time)\n",
    "print(type(dt_time))"
   ]
  },
  {
   "cell_type": "code",
   "execution_count": 13,
   "metadata": {},
   "outputs": [
    {
     "name": "stdout",
     "output_type": "stream",
     "text": "<class 'datetime.datetime'>\n2020-02-19 00:00:00\n"
    }
   ],
   "source": [
    "#方法2\n",
    "from dateutil.parser import parse\n",
    "dt_str2 = '19-02-2020'\n",
    "dt_time2 = parse(dt_str2)\n",
    "print(type(dt_time2))\n",
    "print(dt_time2)"
   ]
  },
  {
   "cell_type": "code",
   "execution_count": 14,
   "metadata": {},
   "outputs": [
    {
     "data": {
      "text/plain": "0    2019/01/01\n1    2019/01/02\n2    2019/01/03\n3    2019/01/04\nName: Course_time, dtype: object"
     },
     "execution_count": 14,
     "metadata": {},
     "output_type": "execute_result"
    }
   ],
   "source": [
    "#方法3\n",
    "str_time = pd.Series(['2019/01/01','2019/01/02','2019/01/03','2019/01/04'],name='Course_time')\n",
    "str_time"
   ]
  },
  {
   "cell_type": "code",
   "execution_count": 15,
   "metadata": {},
   "outputs": [
    {
     "name": "stdout",
     "output_type": "stream",
     "text": "0   2019-01-01\n1   2019-01-02\n2   2019-01-03\n3   2019-01-04\nName: Course_time, dtype: datetime64[ns]\n"
    }
   ],
   "source": [
    "dt_time = pd.to_datetime(str_time)\n",
    "print(dt_time)"
   ]
  },
  {
   "cell_type": "code",
   "execution_count": null,
   "metadata": {},
   "outputs": [],
   "source": [
    "#pandas下的时间格式\n",
    "#timestamp\n",
    "#datetimeIndex:时间格式索引\n",
    "#pd.date_range()用于生成指定长度的DatetimeIndex\n",
    "#Period"
   ]
  },
  {
   "cell_type": "code",
   "execution_count": 17,
   "metadata": {},
   "outputs": [
    {
     "data": {
      "text/plain": "DatetimeIndex(['2020-02-01', '2020-02-02'], dtype='datetime64[ns]', freq=None)"
     },
     "execution_count": 17,
     "metadata": {},
     "output_type": "execute_result"
    }
   ],
   "source": [
    "dates = [datetime(2020,2,1),datetime(2020,2,2)]\n",
    "date_time = pd.DatetimeIndex(dates)\n",
    "date_time"
   ]
  },
  {
   "cell_type": "code",
   "execution_count": 18,
   "metadata": {},
   "outputs": [
    {
     "data": {
      "text/plain": "2020-02-01    0.700598\n2020-02-02    0.051556\ndtype: float64"
     },
     "execution_count": 18,
     "metadata": {},
     "output_type": "execute_result"
    }
   ],
   "source": [
    "df = pd.Series(np.random.randn(2), index = dates)\n",
    "df"
   ]
  },
  {
   "cell_type": "code",
   "execution_count": 21,
   "metadata": {},
   "outputs": [
    {
     "data": {
      "text/plain": "DatetimeIndex(['2020-02-01', '2020-02-02'], dtype='datetime64[ns]', freq=None)"
     },
     "execution_count": 21,
     "metadata": {},
     "output_type": "execute_result"
    }
   ],
   "source": [
    "df.index"
   ]
  },
  {
   "cell_type": "code",
   "execution_count": 22,
   "metadata": {},
   "outputs": [
    {
     "data": {
      "text/plain": "Timestamp('2020-02-01 00:00:00')"
     },
     "execution_count": 22,
     "metadata": {},
     "output_type": "execute_result"
    }
   ],
   "source": [
    "df.index[0]"
   ]
  },
  {
   "cell_type": "code",
   "execution_count": 23,
   "metadata": {},
   "outputs": [
    {
     "data": {
      "text/plain": "2020-02-01    0.700598\n2020-02-02    0.051556\ndtype: float64"
     },
     "execution_count": 23,
     "metadata": {},
     "output_type": "execute_result"
    }
   ],
   "source": [
    "df['2020-02']"
   ]
  },
  {
   "cell_type": "code",
   "execution_count": 24,
   "metadata": {},
   "outputs": [
    {
     "data": {
      "text/plain": "2020-02-19   -0.171308\n2020-02-20   -1.453277\n2020-02-21   -0.896968\n2020-02-22   -0.130159\n2020-02-23    1.247469\n2020-02-24    1.285331\n2020-02-25    1.102804\n2020-02-26    1.146351\n2020-02-27    1.450556\n2020-02-28    0.022096\nFreq: D, dtype: float64"
     },
     "execution_count": 24,
     "metadata": {},
     "output_type": "execute_result"
    }
   ],
   "source": [
    "#创建连续10天的DatetimeIndex\n",
    "dates = pd.date_range('19/2/2020',periods=10)\n",
    "df = pd.Series(np.random.randn(10), index = dates)\n",
    "df"
   ]
  },
  {
   "cell_type": "code",
   "execution_count": 25,
   "metadata": {},
   "outputs": [
    {
     "data": {
      "text/plain": "PeriodIndex(['2020-02', '2020-03', '2020-04', '2020-05', '2020-06', '2020-07',\n             '2020-08', '2020-09', '2020-10', '2020-11', '2020-12', '2021-01'],\n            dtype='period[M]', freq='M')"
     },
     "execution_count": 25,
     "metadata": {},
     "output_type": "execute_result"
    }
   ],
   "source": [
    "#创建period\n",
    "time_period = pd.period_range('2020-02-01',periods=12,freq='M')\n",
    "time_period"
   ]
  },
  {
   "cell_type": "code",
   "execution_count": 26,
   "metadata": {},
   "outputs": [
    {
     "data": {
      "text/plain": "DatetimeIndex(['2020-02-29', '2020-03-31', '2020-04-30', '2020-05-31',\n               '2020-06-30', '2020-07-31', '2020-08-31', '2020-09-30',\n               '2020-10-31', '2020-11-30', '2020-12-31', '2021-01-31'],\n              dtype='datetime64[ns]', freq='M')"
     },
     "execution_count": 26,
     "metadata": {},
     "output_type": "execute_result"
    }
   ],
   "source": [
    "date_range = pd.date_range('2020-02-01',periods=12,freq='M')\n",
    "date_range"
   ]
  },
  {
   "cell_type": "code",
   "execution_count": 28,
   "metadata": {},
   "outputs": [
    {
     "data": {
      "text/plain": "PeriodIndex(['2020-02', '2020-03', '2020-04', '2020-05', '2020-06', '2020-07',\n             '2020-08', '2020-09', '2020-10', '2020-11', '2020-12'],\n            dtype='period[M]', freq='M')"
     },
     "execution_count": 28,
     "metadata": {},
     "output_type": "execute_result"
    }
   ],
   "source": [
    "period_index = pd.period_range('2/2/2020','12/31/2020',freq='M')\n",
    "period_index"
   ]
  },
  {
   "cell_type": "code",
   "execution_count": null,
   "metadata": {},
   "outputs": [],
   "source": []
  },
  {
   "cell_type": "code",
   "execution_count": null,
   "metadata": {},
   "outputs": [],
   "source": []
  },
  {
   "cell_type": "code",
   "execution_count": null,
   "metadata": {},
   "outputs": [],
   "source": []
  },
  {
   "cell_type": "code",
   "execution_count": null,
   "metadata": {},
   "outputs": [],
   "source": []
  },
  {
   "cell_type": "code",
   "execution_count": null,
   "metadata": {},
   "outputs": [],
   "source": []
  },
  {
   "cell_type": "code",
   "execution_count": null,
   "metadata": {},
   "outputs": [],
   "source": []
  },
  {
   "cell_type": "code",
   "execution_count": null,
   "metadata": {},
   "outputs": [],
   "source": []
  },
  {
   "cell_type": "code",
   "execution_count": null,
   "metadata": {},
   "outputs": [],
   "source": []
  },
  {
   "cell_type": "code",
   "execution_count": null,
   "metadata": {},
   "outputs": [],
   "source": []
  },
  {
   "cell_type": "code",
   "execution_count": null,
   "metadata": {},
   "outputs": [],
   "source": []
  },
  {
   "cell_type": "code",
   "execution_count": null,
   "metadata": {},
   "outputs": [],
   "source": []
  },
  {
   "cell_type": "code",
   "execution_count": null,
   "metadata": {},
   "outputs": [],
   "source": []
  },
  {
   "cell_type": "code",
   "execution_count": null,
   "metadata": {},
   "outputs": [],
   "source": []
  }
 ]
}