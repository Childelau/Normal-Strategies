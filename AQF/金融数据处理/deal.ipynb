{
 "nbformat": 4,
 "nbformat_minor": 2,
 "metadata": {
  "language_info": {
   "name": "python",
   "codemirror_mode": {
    "name": "ipython",
    "version": 3
   },
   "version": "3.6.5-final"
  },
  "orig_nbformat": 2,
  "file_extension": ".py",
  "mimetype": "text/x-python",
  "name": "python",
  "npconvert_exporter": "python",
  "pygments_lexer": "ipython3",
  "version": 3,
  "kernelspec": {
   "name": "python36564bitbaseconda4baccf7c2719476e876b25c4fcef0fe8",
   "display_name": "Python 3.6.5 64-bit ('base': conda)"
  }
 },
 "cells": [
  {
   "cell_type": "code",
   "execution_count": 2,
   "metadata": {},
   "outputs": [
    {
     "name": "stdout",
     "output_type": "stream",
     "text": "login success!\n"
    },
    {
     "data": {
      "text/plain": "<baostock.data.resultset.ResultData at 0x1dd3cedb7f0>"
     },
     "execution_count": 2,
     "metadata": {},
     "output_type": "execute_result"
    }
   ],
   "source": [
    "import numpy as np\n",
    "import pandas as pd\n",
    "import matplotlib.pyplot as plt\n",
    "%matplotlib inline\n",
    "import baostock as bs\n",
    "import warnings;warnings.simplefilter('ignore')\n",
    "bs.login()"
   ]
  },
  {
   "cell_type": "code",
   "execution_count": 3,
   "metadata": {},
   "outputs": [],
   "source": [
    "all_stocks = bs.query_all_stock()"
   ]
  },
  {
   "cell_type": "code",
   "execution_count": 6,
   "metadata": {},
   "outputs": [],
   "source": [
    "stock_df = all_stocks.get_data()"
   ]
  },
  {
   "cell_type": "code",
   "execution_count": 7,
   "metadata": {},
   "outputs": [
    {
     "data": {
      "text/html": "<div>\n<style scoped>\n    .dataframe tbody tr th:only-of-type {\n        vertical-align: middle;\n    }\n\n    .dataframe tbody tr th {\n        vertical-align: top;\n    }\n\n    .dataframe thead th {\n        text-align: right;\n    }\n</style>\n<table border=\"1\" class=\"dataframe\">\n  <thead>\n    <tr style=\"text-align: right;\">\n      <th></th>\n    </tr>\n  </thead>\n  <tbody>\n  </tbody>\n</table>\n</div>",
      "text/plain": "Empty DataFrame\nColumns: []\nIndex: []"
     },
     "execution_count": 7,
     "metadata": {},
     "output_type": "execute_result"
    }
   ],
   "source": [
    "data_df = pd.DataFrame()"
   ]
  },
  {
   "cell_type": "code",
   "execution_count": 15,
   "metadata": {},
   "outputs": [
    {
     "data": {
      "text/plain": "0       sh.000001\n1       sh.000002\n2       sh.000003\n3       sh.000004\n4       sh.000005\n5       sh.000006\n6       sh.000007\n7       sh.000008\n8       sh.000009\n9       sh.000010\n10      sh.000011\n11      sh.000012\n12      sh.000013\n13      sh.000015\n14      sh.000016\n15      sh.000017\n16      sh.000018\n17      sh.000019\n18      sh.000020\n19      sh.000021\n20      sh.000022\n21      sh.000025\n22      sh.000026\n23      sh.000027\n24      sh.000028\n25      sh.000029\n26      sh.000030\n27      sh.000031\n28      sh.000032\n29      sh.000033\n          ...    \n4275    sz.399901\n4276    sz.399903\n4277    sz.399904\n4278    sz.399905\n4279    sz.399913\n4280    sz.399914\n4281    sz.399918\n4282    sz.399928\n4283    sz.399932\n4284    sz.399933\n4285    sz.399934\n4286    sz.399935\n4287    sz.399944\n4288    sz.399958\n4289    sz.399959\n4290    sz.399965\n4291    sz.399966\n4292    sz.399967\n4293    sz.399972\n4294    sz.399974\n4295    sz.399982\n4296    sz.399990\n4297    sz.399991\n4298    sz.399992\n4299    sz.399993\n4300    sz.399994\n4301    sz.399995\n4302    sz.399996\n4303    sz.399997\n4304    sz.399998\nName: code, Length: 4305, dtype: object"
     },
     "execution_count": 15,
     "metadata": {},
     "output_type": "execute_result"
    }
   ],
   "source": [
    "stock_rs = bs.query_all_stock('2020-02-20')\n",
    "stock_df = stock_rs.get_data()\n",
    "stock_df['code']"
   ]
  },
  {
   "cell_type": "code",
   "execution_count": null,
   "metadata": {},
   "outputs": [],
   "source": []
  },
  {
   "cell_type": "code",
   "execution_count": null,
   "metadata": {},
   "outputs": [],
   "source": []
  },
  {
   "cell_type": "code",
   "execution_count": null,
   "metadata": {},
   "outputs": [],
   "source": []
  },
  {
   "cell_type": "code",
   "execution_count": null,
   "metadata": {},
   "outputs": [],
   "source": []
  },
  {
   "cell_type": "code",
   "execution_count": null,
   "metadata": {},
   "outputs": [],
   "source": []
  },
  {
   "cell_type": "code",
   "execution_count": null,
   "metadata": {},
   "outputs": [],
   "source": []
  },
  {
   "cell_type": "code",
   "execution_count": null,
   "metadata": {},
   "outputs": [],
   "source": []
  },
  {
   "cell_type": "code",
   "execution_count": null,
   "metadata": {},
   "outputs": [],
   "source": []
  },
  {
   "cell_type": "code",
   "execution_count": null,
   "metadata": {},
   "outputs": [],
   "source": []
  }
 ]
}